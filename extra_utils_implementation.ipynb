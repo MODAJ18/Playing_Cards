{
 "cells": [
  {
   "cell_type": "code",
   "execution_count": 1,
   "id": "c795babc",
   "metadata": {},
   "outputs": [],
   "source": [
    "import glob\n",
    "import math\n",
    "import os\n",
    "import shutil\n",
    "\n",
    "# shutil.copyfile(src, dst)\n",
    "\n",
    "# # 2nd option\n",
    "# shutil.copy(src, dst)  # dst"
   ]
  },
  {
   "cell_type": "code",
   "execution_count": 3,
   "id": "a4858624",
   "metadata": {},
   "outputs": [
    {
     "name": "stdout",
     "output_type": "stream",
     "text": [
      "C:\\Users\\modaj\\OneDrive\\Documents\\Personal\\Jobs\\SHAI\\intern - task 2\n"
     ]
    }
   ],
   "source": [
    "cd ../other_data"
   ]
  },
  {
   "cell_type": "code",
   "execution_count": 5,
   "id": "37025446",
   "metadata": {},
   "outputs": [
    {
     "name": "stdout",
     "output_type": "stream",
     "text": [
      "C:\\Users\\modaj\\OneDrive\\Documents\\Personal\\Jobs\\SHAI\\intern - task 2\\other_data\\6 (omar)\n"
     ]
    }
   ],
   "source": [
    "cd data"
   ]
  },
  {
   "cell_type": "code",
   "execution_count": 1,
   "id": "464030e6",
   "metadata": {},
   "outputs": [
    {
     "data": {
      "text/plain": [
       "'C:\\\\Users\\\\modaj\\\\OneDrive\\\\Documents\\\\Personal\\\\Jobs\\\\SHAI\\\\intern - task 2\\\\Model_4'"
      ]
     },
     "execution_count": 1,
     "metadata": {},
     "output_type": "execute_result"
    }
   ],
   "source": [
    "pwd"
   ]
  },
  {
   "cell_type": "markdown",
   "id": "856bcd88",
   "metadata": {},
   "source": [
    "## Adding proper prefix for each data source\n"
   ]
  },
  {
   "cell_type": "code",
   "execution_count": 2,
   "id": "27eb39d9",
   "metadata": {},
   "outputs": [
    {
     "name": "stdout",
     "output_type": "stream",
     "text": [
      "C:\\Users\\modaj\\OneDrive\\Documents\\Personal\\Jobs\\SHAI\\intern - task 2\\other_data\\8 (mine)\n"
     ]
    }
   ],
   "source": [
    "cd ../other_data/8 (mine)"
   ]
  },
  {
   "cell_type": "code",
   "execution_count": 3,
   "id": "80e26b08",
   "metadata": {},
   "outputs": [
    {
     "name": "stdout",
     "output_type": "stream",
     "text": [
      "C:\\Users\\modaj\\OneDrive\\Documents\\Personal\\Jobs\\SHAI\\intern - task 2\\other_data\\8 (mine)\\data\n"
     ]
    }
   ],
   "source": [
    "cd data"
   ]
  },
  {
   "cell_type": "code",
   "execution_count": 8,
   "id": "ad04549a",
   "metadata": {},
   "outputs": [
    {
     "name": "stdout",
     "output_type": "stream",
     "text": [
      "\n",
      "C:\\Users\\modaj\\OneDrive\\Documents\\Personal\\Jobs\\SHAI\\intern - task 2\\other_data\\8 (mine)\\data>ren \"005390610.png\" \"../data_new2/8__005390610.png\" \n",
      "\n",
      "C:\\Users\\modaj\\OneDrive\\Documents\\Personal\\Jobs\\SHAI\\intern - task 2\\other_data\\8 (mine)\\data>ren \"013095575.png\" \"../data_new2/8__013095575.png\" \n",
      "\n",
      "C:\\Users\\modaj\\OneDrive\\Documents\\Personal\\Jobs\\SHAI\\intern - task 2\\other_data\\8 (mine)\\data>ren \"106620379.png\" \"../data_new2/8__106620379.png\" \n",
      "\n",
      "C:\\Users\\modaj\\OneDrive\\Documents\\Personal\\Jobs\\SHAI\\intern - task 2\\other_data\\8 (mine)\\data>ren \"116556120.png\" \"../data_new2/8__116556120.png\" \n",
      "\n",
      "C:\\Users\\modaj\\OneDrive\\Documents\\Personal\\Jobs\\SHAI\\intern - task 2\\other_data\\8 (mine)\\data>ren \"119975695.png\" \"../data_new2/8__119975695.png\" \n",
      "\n",
      "C:\\Users\\modaj\\OneDrive\\Documents\\Personal\\Jobs\\SHAI\\intern - task 2\\other_data\\8 (mine)\\data>ren \"132115214.png\" \"../data_new2/8__132115214.png\" \n",
      "\n",
      "C:\\Users\\modaj\\OneDrive\\Documents\\Personal\\Jobs\\SHAI\\intern - task 2\\other_data\\8 (mine)\\data>ren \"144335847.png\" \"../data_new2/8__144335847.png\" \n",
      "\n",
      "C:\\Users\\modaj\\OneDrive\\Documents\\Personal\\Jobs\\SHAI\\intern - task 2\\other_data\\8 (mine)\\data>ren \"151671216.png\" \"../data_new2/8__151671216.png\" \n",
      "\n",
      "C:\\Users\\modaj\\OneDrive\\Documents\\Personal\\Jobs\\SHAI\\intern - task 2\\other_data\\8 (mine)\\data>ren \"154400862.png\" \"../data_new2/8__154400862.png\" \n",
      "\n",
      "C:\\Users\\modaj\\OneDrive\\Documents\\Personal\\Jobs\\SHAI\\intern - task 2\\other_data\\8 (mine)\\data>ren \"160556850.png\" \"../data_new2/8__160556850.png\" \n",
      "\n",
      "C:\\Users\\modaj\\OneDrive\\Documents\\Personal\\Jobs\\SHAI\\intern - task 2\\other_data\\8 (mine)\\data>ren \"213237448.png\" \"../data_new2/8__213237448.png\" \n",
      "\n",
      "C:\\Users\\modaj\\OneDrive\\Documents\\Personal\\Jobs\\SHAI\\intern - task 2\\other_data\\8 (mine)\\data>ren \"217000867.png\" \"../data_new2/8__217000867.png\" \n",
      "\n",
      "C:\\Users\\modaj\\OneDrive\\Documents\\Personal\\Jobs\\SHAI\\intern - task 2\\other_data\\8 (mine)\\data>ren \"339506394.png\" \"../data_new2/8__339506394.png\" \n",
      "\n",
      "C:\\Users\\modaj\\OneDrive\\Documents\\Personal\\Jobs\\SHAI\\intern - task 2\\other_data\\8 (mine)\\data>ren \"340263310.png\" \"../data_new2/8__340263310.png\" \n",
      "\n",
      "C:\\Users\\modaj\\OneDrive\\Documents\\Personal\\Jobs\\SHAI\\intern - task 2\\other_data\\8 (mine)\\data>ren \"412594181.png\" \"../data_new2/8__412594181.png\" \n",
      "\n",
      "C:\\Users\\modaj\\OneDrive\\Documents\\Personal\\Jobs\\SHAI\\intern - task 2\\other_data\\8 (mine)\\data>ren \"WhatsApp Image 2022-09-26 at 17.53.44.jpg\" \"../data_new2/8__WhatsApp Image 2022-09-26 at 17.53.44.jpg\" \n",
      "\n",
      "C:\\Users\\modaj\\OneDrive\\Documents\\Personal\\Jobs\\SHAI\\intern - task 2\\other_data\\8 (mine)\\data>ren \"WhatsApp Image 2022-09-26 at 17.53.4446.jpg\" \"../data_new2/8__WhatsApp Image 2022-09-26 at 17.53.4446.jpg\" \n",
      "\n",
      "C:\\Users\\modaj\\OneDrive\\Documents\\Personal\\Jobs\\SHAI\\intern - task 2\\other_data\\8 (mine)\\data>ren \"WhatsApp Image 2022-09-26 at 17.53.45.jpg\" \"../data_new2/8__WhatsApp Image 2022-09-26 at 17.53.45.jpg\" \n",
      "\n",
      "C:\\Users\\modaj\\OneDrive\\Documents\\Personal\\Jobs\\SHAI\\intern - task 2\\other_data\\8 (mine)\\data>ren \"WhatsApp Image 2022-09-26 at 17.53.4522.jpg\" \"../data_new2/8__WhatsApp Image 2022-09-26 at 17.53.4522.jpg\" \n",
      "\n",
      "C:\\Users\\modaj\\OneDrive\\Documents\\Personal\\Jobs\\SHAI\\intern - task 2\\other_data\\8 (mine)\\data>ren \"WhatsApp Image 2022-09-26 at 17.53.45ff.jpg\" \"../data_new2/8__WhatsApp Image 2022-09-26 at 17.53.45ff.jpg\" \n",
      "\n",
      "C:\\Users\\modaj\\OneDrive\\Documents\\Personal\\Jobs\\SHAI\\intern - task 2\\other_data\\8 (mine)\\data>ren \"WhatsApp Image 2022-09-26 at 17.53.4623.jpg\" \"../data_new2/8__WhatsApp Image 2022-09-26 at 17.53.4623.jpg\" \n"
     ]
    }
   ],
   "source": [
    "!for %a in (*.*) do ren \"%a\" \"../data_new2/8__%a\""
   ]
  },
  {
   "cell_type": "markdown",
   "id": "11f7f4d2",
   "metadata": {},
   "source": [
    "## Data Preparation for use in annotation tool"
   ]
  },
  {
   "cell_type": "markdown",
   "id": "770e32ae",
   "metadata": {},
   "source": [
    "**includes:** file image spitting into batches for processing by annotation tool, name prefix for images indicating source number of data, sorting xml, txt and image files."
   ]
  },
  {
   "cell_type": "code",
   "execution_count": 29,
   "id": "f2e6b86a",
   "metadata": {},
   "outputs": [
    {
     "name": "stdout",
     "output_type": "stream",
     "text": [
      "C:\\Users\\modaj\\OneDrive\\Documents\\Personal\\Jobs\\SHAI\\intern - task 2\\other_data\\7 (mine)\n"
     ]
    }
   ],
   "source": [
    "cd .."
   ]
  },
  {
   "cell_type": "code",
   "execution_count": null,
   "id": "3e7fcac4",
   "metadata": {},
   "outputs": [],
   "source": [
    "## data\n",
    "l = list(glob.glob('data_new/*.jpg'))\n",
    "\n",
    "file_num = 40\n",
    "file_part_num = file_num / 2\n",
    "n_iteration = math.ceil(len(l) / file_part_num)  # (each iteration makes a folder)\n",
    "\n",
    "for i in range(n_iteration):\n",
    "    lower_range = int(i * file_part_num)\n",
    "    higher_range = int((i+1) * file_part_num)\n",
    "    if i == n_iteration - 1:\n",
    "        l_i = l[lower_range: ]\n",
    "    else:\n",
    "        l_i = l[lower_range: higher_range]\n",
    "    \n",
    "    directory = f'data_{i+1}'\n",
    "    if not os.path.exists(directory):\n",
    "        os.makedirs(directory)\n",
    "        os.makedirs(os.path.join(directory, 'images'))\n",
    "        os.makedirs(os.path.join(directory, 'labels'))\n",
    "        \n",
    "    for img_fn in l_i:\n",
    "        txt_fn = ''.join(img_fn.split('.')[:-1]) + '.xml' \n",
    "        dest_path_img = os.path.join(directory, 'images', img_fn.split('\\\\')[-1])\n",
    "        dest_path_txt = os.path.join(directory, 'images', txt_fn.split('\\\\')[-1])\n",
    "        print('img file:', img_fn)\n",
    "        print('txt file:', txt_fn)\n",
    "        print(dest_path_img)\n",
    "        print(dest_path_txt)\n",
    "        print()\n",
    "        shutil.copyfile(img_fn, dest_path_img)\n",
    "#         shutil.copyfile(txt_fn, dest_path_txt)"
   ]
  },
  {
   "cell_type": "code",
   "execution_count": null,
   "id": "9a2afc28",
   "metadata": {},
   "outputs": [],
   "source": [
    "## data\n",
    "l = list(glob.glob('data_new/*.jpg'))\n",
    "\n",
    "file_num = 800\n",
    "file_part_num = file_num / 2\n",
    "n_iteration = math.ceil(len(l) / file_part_num)  # (each iteration makes a folder)\n",
    "\n",
    "for i in range(n_iteration):\n",
    "    lower_range = int(i * file_part_num)\n",
    "    higher_range = int((i+1) * file_part_num)\n",
    "    if i == n_iteration - 1:\n",
    "        l_i = l[lower_range: ]\n",
    "    else:\n",
    "        l_i = l[lower_range: higher_range]\n",
    "    \n",
    "    directory = f'data_{i+1}'\n",
    "    if not os.path.exists(directory):\n",
    "        os.makedirs(directory)\n",
    "        os.makedirs(os.path.join(directory, 'images'))\n",
    "        os.makedirs(os.path.join(directory, 'labels'))\n",
    "        \n",
    "    for img_fn in l_i:\n",
    "        txt_fn = ''.join(img_fn.split('.')[:-1]) + '.xml' \n",
    "        dest_path_img = os.path.join(directory, 'images', img_fn.split('\\\\')[-1])\n",
    "        dest_path_txt = os.path.join(directory, 'images', txt_fn.split('\\\\')[-1])\n",
    "        print('img file:', img_fn)\n",
    "        print('txt file:', txt_fn)\n",
    "        print(dest_path_img)\n",
    "        print(dest_path_txt)\n",
    "        print()\n",
    "        shutil.copyfile(img_fn, dest_path_img)\n",
    "        shutil.copyfile(txt_fn, dest_path_txt)"
   ]
  },
  {
   "cell_type": "code",
   "execution_count": 7,
   "id": "349d7fa8",
   "metadata": {},
   "outputs": [],
   "source": [
    "## Train Data\n",
    "l = list(glob.glob('train_zipped/*.jpg'))\n",
    "\n",
    "file_num = 800\n",
    "file_part_num = file_num / 2\n",
    "n_iteration = math.ceil(len(l) / file_part_num)  # (each iteration makes a folder)\n",
    "\n",
    "for i in range(n_iteration):\n",
    "    lower_range = int(i * file_part_num)\n",
    "    higher_range = int((i+1) * file_part_num)\n",
    "    if i == n_iteration - 1:\n",
    "        l_i = l[lower_range: ]\n",
    "    else:\n",
    "        l_i = l[lower_range: higher_range]\n",
    "    \n",
    "    directory = f'data_{i+1}'\n",
    "    if not os.path.exists(directory):\n",
    "        os.makedirs(directory)\n",
    "    \n",
    "    for img_fn in l_i:\n",
    "        txt_fn = ''.join(img_fn.split('.')[:-1]) + '.xml' \n",
    "        dest_path_img = os.path.join(directory, img_fn.split('\\\\')[-1])\n",
    "        dest_path_txt = os.path.join(directory, txt_fn.split('\\\\')[-1])\n",
    "        print('img file:', img_fn)\n",
    "        print('txt file:', txt_fn)\n",
    "        print(dest_path_img)\n",
    "        print(dest_path_txt)\n",
    "        print()\n",
    "        shutil.copyfile(img_fn, dest_path_img)\n",
    "        shutil.copyfile(txt_fn, dest_path_txt)\n",
    "    "
   ]
  },
  {
   "cell_type": "code",
   "execution_count": null,
   "id": "528f6d4a",
   "metadata": {
    "scrolled": false
   },
   "outputs": [],
   "source": [
    "## Test Data\n",
    "l = list(glob.glob('test_zipped/*.jpg'))\n",
    "\n",
    "file_num = 800\n",
    "file_part_num = file_num / 2\n",
    "n_iteration = math.ceil(len(l) / file_part_num)  # (each iteration makes a folder)\n",
    "\n",
    "for i in range(n_iteration):\n",
    "    lower_range = int(i * file_part_num)\n",
    "    higher_range = int((i+1) * file_part_num)\n",
    "    if i == n_iteration - 1:\n",
    "        l_i = l[lower_range: ]\n",
    "    else:\n",
    "        l_i = l[lower_range: higher_range]\n",
    "    \n",
    "    directory = f'data_test_{i+1}'\n",
    "    if not os.path.exists(directory):\n",
    "        os.makedirs(directory)\n",
    "    \n",
    "    for img_fn in l_i:\n",
    "        txt_fn = ''.join(img_fn.split('.')[:-1]) + '.xml' \n",
    "        dest_path_img = os.path.join(directory, img_fn.split('\\\\')[-1])\n",
    "        dest_path_txt = os.path.join(directory, txt_fn.split('\\\\')[-1])\n",
    "        print('img file:', img_fn)\n",
    "        print('txt file:', txt_fn)\n",
    "        print(dest_path_img)\n",
    "        print(dest_path_txt)\n",
    "        print()\n",
    "        shutil.copyfile(img_fn, dest_path_img)\n",
    "        shutil.copyfile(txt_fn, dest_path_txt)"
   ]
  }
 ],
 "metadata": {
  "kernelspec": {
   "display_name": "od-vevn4",
   "language": "python",
   "name": "od-vevn4"
  },
  "language_info": {
   "codemirror_mode": {
    "name": "ipython",
    "version": 3
   },
   "file_extension": ".py",
   "mimetype": "text/x-python",
   "name": "python",
   "nbconvert_exporter": "python",
   "pygments_lexer": "ipython3",
   "version": "3.10.1"
  }
 },
 "nbformat": 4,
 "nbformat_minor": 5
}
